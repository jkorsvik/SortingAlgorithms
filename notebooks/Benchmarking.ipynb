{
  "nbformat": 4,
  "nbformat_minor": 0,
  "metadata": {
    "kernelspec": {
      "display_name": "Python 3",
      "language": "python",
      "name": "python3"
    },
    "language_info": {
      "codemirror_mode": {
        "name": "ipython",
        "version": 3
      },
      "file_extension": ".py",
      "mimetype": "text/x-python",
      "name": "python",
      "nbconvert_exporter": "python",
      "pygments_lexer": "ipython3",
      "version": "3.8.3"
    },
    "colab": {
      "name": "Benchmarking.ipynb",
      "provenance": []
    }
  },
  "cells": [
    {
      "cell_type": "markdown",
      "metadata": {
        "id": "HsiM8R5xO2go"
      },
      "source": [
        "# Benchmarks"
      ]
    },
    {
      "cell_type": "code",
      "metadata": {
        "id": "9RJVOtRDO2gp"
      },
      "source": [
        "import random\n",
        "import numpy as np\n",
        "import pandas as pd\n",
        "import time\n",
        "import functools\n",
        "\n",
        "import matplotlib.pyplot as plt\n",
        "\n",
        "import timeit\n",
        "from timeit import Timer\n",
        "import copy\n",
        "import numba "
      ],
      "execution_count": 12,
      "outputs": []
    },
    {
      "cell_type": "markdown",
      "metadata": {
        "id": "o8Fhd7urO2gu"
      },
      "source": [
        "#### Quadratic sorting algorithms"
      ]
    },
    {
      "cell_type": "code",
      "metadata": {
        "id": "r-XvjxGhO2gv"
      },
      "source": [
        "@numba.jit()\n",
        "def numba_insertion_sort(A):\n",
        "    for j in range(1, len(A)):\n",
        "        key = A[j]\n",
        "\n",
        "        while j > 0 and A[j-1] > key:\n",
        "            # Swap\n",
        "            A[j], A[j-1] = A[j-1], A[j]\n",
        "            j -= 1\n",
        "\n",
        "def insertion_sort(A):\n",
        "    for j in range(1, len(A)):\n",
        "        key = A[j]\n",
        "\n",
        "        while j > 0 and A[j-1] > key:\n",
        "            # Swap\n",
        "            A[j], A[j-1] = A[j-1], A[j]\n",
        "            j -= 1\n",
        "\n",
        "\n",
        "@numba.jit()\n",
        "def numba_bubble_sort(A):\n",
        "    n = len(A)\n",
        "    has_swapped = True\n",
        "    num_rounds = 0\n",
        "\n",
        "    while(has_swapped):\n",
        "        has_swapped = False\n",
        "\n",
        "        # Shortens end of list by n - kth iteration - 1\n",
        "        for i in range(n - num_rounds - 1):\n",
        "\n",
        "            if A[i] > A[i+1]:\n",
        "                # Swap\n",
        "                A[i], A[i+1] = A[i+1], A[i]\n",
        "                has_swapped = True\n",
        "        num_rounds += 1\n",
        "\n",
        "def bubble_sort(A):\n",
        "    n = len(A)\n",
        "    has_swapped = True\n",
        "    num_rounds = 0\n",
        "\n",
        "    while(has_swapped):\n",
        "        has_swapped = False\n",
        "\n",
        "        # Shortens end of list by n - kth iteration - 1\n",
        "        for i in range(n - num_rounds - 1):\n",
        "\n",
        "            if A[i] > A[i+1]:\n",
        "                # Swap\n",
        "                A[i], A[i+1] = A[i+1], A[i]\n",
        "                has_swapped = True\n",
        "        num_rounds += 1\n",
        "\n",
        "@numba.jit()    \n",
        "def numba_merge_sort(values): \n",
        "  \n",
        "    if len(values)>1: \n",
        "        m = len(values)//2\n",
        "        left = values[:m] \n",
        "        right = values[m:] \n",
        "        left = merge_sort(left) \n",
        "        right = merge_sort(right) \n",
        "  \n",
        "        values =[] \n",
        "  \n",
        "        while len(left)>0 and len(right)>0: \n",
        "            if left[0]<right[0]: \n",
        "                values.append(left[0]) \n",
        "                left.pop(0) \n",
        "            else: \n",
        "                values.append(right[0]) \n",
        "                right.pop(0) \n",
        "  \n",
        "        for i in left: \n",
        "            values.append(i) \n",
        "        for i in right: \n",
        "            values.append(i) \n",
        "                  \n",
        "    return values   \n",
        "        \n",
        "def merge_sort(values): \n",
        "  \n",
        "    if len(values)>1: \n",
        "        m = len(values)//2\n",
        "        left = values[:m] \n",
        "        right = values[m:] \n",
        "        left = merge_sort(left) \n",
        "        right = merge_sort(right) \n",
        "  \n",
        "        values =[] \n",
        "  \n",
        "        while len(left)>0 and len(right)>0: \n",
        "            if left[0]<right[0]: \n",
        "                values.append(left[0]) \n",
        "                left.pop(0) \n",
        "            else: \n",
        "                values.append(right[0]) \n",
        "                right.pop(0) \n",
        "  \n",
        "        for i in left: \n",
        "            values.append(i) \n",
        "        for i in right: \n",
        "            values.append(i) \n",
        "                  \n",
        "    return values"
      ],
      "execution_count": 20,
      "outputs": []
    },
    {
      "cell_type": "markdown",
      "metadata": {
        "id": "Bm36RauSO2g0"
      },
      "source": [
        "#### Number generator"
      ]
    },
    {
      "cell_type": "code",
      "metadata": {
        "id": "2EaH2KBRO2g0"
      },
      "source": [
        "def random_int_generator(length):\n",
        "    \"\"\"Creates list of integers of given length - with random order\"\"\"\n",
        "    return list((np.random.randint(-length, length, size=length)))\n",
        "\n",
        "def random_float_generator(length):\n",
        "    \"\"\"Creates list of decimal numbers of given length - with random order\"\"\"\n",
        "    return list((np.random.uniform(-length, length, size=length)))\n",
        "\n",
        "def ordered_generator(length):\n",
        "    \"\"\"Creates list of numbers of given length - with acsending order\"\"\"\n",
        "    return list(np.arange(1, length))\n",
        "\n",
        "def reversed_generator(length):\n",
        "    \"\"\"Creates list of numbers of given length - with descending order\"\"\"\n",
        "    return list(np.flipud(ordered_generator(length)))\n",
        "\n",
        "def string_generator(length):\n",
        "  \"\"\"Creates list of numbers of given length - with descending order\"\"\""
      ],
      "execution_count": 14,
      "outputs": []
    },
    {
      "cell_type": "code",
      "metadata": {
        "id": "8xAfRsQhO2g3"
      },
      "source": [
        "#print(random_int_generator(10))\n",
        "#print(random_float_generator(10))\n",
        "#print(ordered_generator(10))\n",
        "#print(reversed_generator(10))"
      ],
      "execution_count": 22,
      "outputs": []
    },
    {
      "cell_type": "markdown",
      "metadata": {
        "id": "YZsBudefO2g8"
      },
      "source": [
        "#### Benchmark function"
      ]
    },
    {
      "cell_type": "code",
      "metadata": {
        "id": "Dj3vppfFO2g9"
      },
      "source": [
        "def benchmark(algorithm, given_list):\n",
        "    \"\"\" Returns the runtime of a given sorting algorithim on a list of given length and type.\"\"\"\n",
        "    \n",
        "    rng = np.random.default_rng(12235) \n",
        "    clock = timeit.Timer(stmt='sort_func(copy(data))', globals={'sort_func': algorithm,\n",
        "                                                                'data': given_list , 'copy': copy.copy})\n",
        "    n_ar, t_ar = clock.autorange()\n",
        "    t = clock.repeat(repeat=10, number=n_ar)\n",
        "    return np.average(t)/n_ar"
      ],
      "execution_count": 21,
      "outputs": []
    },
    {
      "cell_type": "code",
      "metadata": {
        "id": "8QXU5P-aO2hA"
      },
      "source": [
        "def benchmark_algos_and_types(algorithm, list_size):\n",
        "    \"\"\" Returns the time for given list type and return a dictionary with the results. \"\"\"\n",
        "    \n",
        "    integer_results = [( _ , benchmark(algorithm, random_int_generator(_))) \n",
        "                      for _ in range(0, list_size, 50)]\n",
        "    \n",
        "    float_results = [( _ , benchmark(algorithm, random_float_generator(_))) \n",
        "                     for _ in range(0, list_size, 50)]\n",
        "    \n",
        "    ascending_results = [( _ , benchmark(algorithm, ordered_generator(_))) \n",
        "                         for _ in range(0, list_size, 50)]\n",
        "    \n",
        "    descending_result = [( _ , benchmark(algorithm, reversed_generator(_))) \n",
        "                         for _ in range(0, list_size, 50)]\n",
        "    \n",
        "    \n",
        "    all_results = {'Random integers' : integer_results, \n",
        "                   'Random float' : float_results, \n",
        "                   'Ascending integers' : ascending_results,\n",
        "                   'Descending integers' : descending_result}\n",
        "    \n",
        "    return all_results"
      ],
      "execution_count": 17,
      "outputs": []
    },
    {
      "cell_type": "markdown",
      "metadata": {
        "id": "Osd-OWBPO2hH"
      },
      "source": [
        "#### Plotting"
      ]
    },
    {
      "cell_type": "code",
      "metadata": {
        "id": "EolHJp0_O2hI"
      },
      "source": [
        "def plot_algorithms_benchmark(algorithm, list_size):\n",
        "    \"\"\" Plots the runtime for the different list types. \"\"\"\n",
        "    \n",
        "    results = benchmark_algos_and_types(algorithm, list_size)\n",
        "    plt.figure()\n",
        "    for typ in results:\n",
        "        size, time = zip(*results[typ])\n",
        "        plt.plot(size, time, label = typ)\n",
        "        plt.title(algorithm.__name__)\n",
        "        plt.xlabel('Number of items (n)')\n",
        "        plt.ylabel('Runtime dependent on n')\n",
        "        plt.legend()"
      ],
      "execution_count": 19,
      "outputs": []
    },
    {
      "cell_type": "code",
      "metadata": {
        "id": "2WoMHregUnnx"
      },
      "source": [
        "algorithms = [numba_insertion_sort, insertion_sort]\n",
        "\n",
        "for algo in algorithms:\n",
        "    plot_algorithms_benchmark(algo, 500)"
      ],
      "execution_count": null,
      "outputs": []
    },
    {
      "cell_type": "code",
      "metadata": {
        "id": "DEohJzs5O2hL",
        "outputId": "9ed5e146-054c-41c6-88e3-55e247e2cfef",
        "colab": {
          "base_uri": "https://localhost:8080/",
          "height": 653
        }
      },
      "source": [
        "algorithms = [numba_insertion_sort, numba_bubble_sort, numba_merge_sort]\n",
        "\n",
        "for algo in algorithms:\n",
        "    plot_algorithms_benchmark(algo, 1000)"
      ],
      "execution_count": 9,
      "outputs": [
        {
          "output_type": "error",
          "ename": "KeyboardInterrupt",
          "evalue": "ignored",
          "traceback": [
            "\u001b[0;31m---------------------------------------------------------------------------\u001b[0m",
            "\u001b[0;31mKeyboardInterrupt\u001b[0m                         Traceback (most recent call last)",
            "\u001b[0;32m<ipython-input-9-92fb62e4e184>\u001b[0m in \u001b[0;36m<module>\u001b[0;34m()\u001b[0m\n\u001b[1;32m      2\u001b[0m \u001b[0;34m\u001b[0m\u001b[0m\n\u001b[1;32m      3\u001b[0m \u001b[0;32mfor\u001b[0m \u001b[0malgo\u001b[0m \u001b[0;32min\u001b[0m \u001b[0malgorithms\u001b[0m\u001b[0;34m:\u001b[0m\u001b[0;34m\u001b[0m\u001b[0;34m\u001b[0m\u001b[0m\n\u001b[0;32m----> 4\u001b[0;31m     \u001b[0mplot_algorithms_benchmark\u001b[0m\u001b[0;34m(\u001b[0m\u001b[0malgo\u001b[0m\u001b[0;34m,\u001b[0m \u001b[0;36m500\u001b[0m\u001b[0;34m)\u001b[0m\u001b[0;34m\u001b[0m\u001b[0;34m\u001b[0m\u001b[0m\n\u001b[0m",
            "\u001b[0;32m<ipython-input-8-63633f65bde2>\u001b[0m in \u001b[0;36mplot_algorithms_benchmark\u001b[0;34m(algorithm, list_size)\u001b[0m\n\u001b[1;32m      2\u001b[0m     \u001b[0;34m\"\"\" Plots the runtime for the different list types. \"\"\"\u001b[0m\u001b[0;34m\u001b[0m\u001b[0;34m\u001b[0m\u001b[0m\n\u001b[1;32m      3\u001b[0m \u001b[0;34m\u001b[0m\u001b[0m\n\u001b[0;32m----> 4\u001b[0;31m     \u001b[0mresults\u001b[0m \u001b[0;34m=\u001b[0m \u001b[0mbenchmark_algos_and_types\u001b[0m\u001b[0;34m(\u001b[0m\u001b[0malgorithm\u001b[0m\u001b[0;34m,\u001b[0m \u001b[0mlist_size\u001b[0m\u001b[0;34m)\u001b[0m\u001b[0;34m\u001b[0m\u001b[0;34m\u001b[0m\u001b[0m\n\u001b[0m\u001b[1;32m      5\u001b[0m     \u001b[0mplt\u001b[0m\u001b[0;34m.\u001b[0m\u001b[0mfigure\u001b[0m\u001b[0;34m(\u001b[0m\u001b[0;34m)\u001b[0m\u001b[0;34m\u001b[0m\u001b[0;34m\u001b[0m\u001b[0m\n\u001b[1;32m      6\u001b[0m     \u001b[0;32mfor\u001b[0m \u001b[0mtyp\u001b[0m \u001b[0;32min\u001b[0m \u001b[0mresults\u001b[0m\u001b[0;34m:\u001b[0m\u001b[0;34m\u001b[0m\u001b[0;34m\u001b[0m\u001b[0m\n",
            "\u001b[0;32m<ipython-input-6-10957a8154eb>\u001b[0m in \u001b[0;36mbenchmark_algos_and_types\u001b[0;34m(algorithm, list_size)\u001b[0m\n\u001b[1;32m      3\u001b[0m \u001b[0;34m\u001b[0m\u001b[0m\n\u001b[1;32m      4\u001b[0m     integer_results = [( _ , benchmark(algorithm, random_int_generator(_))) \n\u001b[0;32m----> 5\u001b[0;31m                       for _ in range(0, list_size, 50)]\n\u001b[0m\u001b[1;32m      6\u001b[0m \u001b[0;34m\u001b[0m\u001b[0m\n\u001b[1;32m      7\u001b[0m     float_results = [( _ , benchmark(algorithm, random_float_generator(_))) \n",
            "\u001b[0;32m<ipython-input-6-10957a8154eb>\u001b[0m in \u001b[0;36m<listcomp>\u001b[0;34m(.0)\u001b[0m\n\u001b[1;32m      3\u001b[0m \u001b[0;34m\u001b[0m\u001b[0m\n\u001b[1;32m      4\u001b[0m     integer_results = [( _ , benchmark(algorithm, random_int_generator(_))) \n\u001b[0;32m----> 5\u001b[0;31m                       for _ in range(0, list_size, 50)]\n\u001b[0m\u001b[1;32m      6\u001b[0m \u001b[0;34m\u001b[0m\u001b[0m\n\u001b[1;32m      7\u001b[0m     float_results = [( _ , benchmark(algorithm, random_float_generator(_))) \n",
            "\u001b[0;32m<ipython-input-5-3891b8f624bf>\u001b[0m in \u001b[0;36mbenchmark\u001b[0;34m(algorithm, given_list)\u001b[0m\n\u001b[1;32m      6\u001b[0m                                                                 'data': given_list , 'copy': copy.copy})\n\u001b[1;32m      7\u001b[0m     \u001b[0mn_ar\u001b[0m\u001b[0;34m,\u001b[0m \u001b[0mt_ar\u001b[0m \u001b[0;34m=\u001b[0m \u001b[0mclock\u001b[0m\u001b[0;34m.\u001b[0m\u001b[0mautorange\u001b[0m\u001b[0;34m(\u001b[0m\u001b[0;34m)\u001b[0m\u001b[0;34m\u001b[0m\u001b[0;34m\u001b[0m\u001b[0m\n\u001b[0;32m----> 8\u001b[0;31m     \u001b[0mt\u001b[0m \u001b[0;34m=\u001b[0m \u001b[0mclock\u001b[0m\u001b[0;34m.\u001b[0m\u001b[0mrepeat\u001b[0m\u001b[0;34m(\u001b[0m\u001b[0mrepeat\u001b[0m\u001b[0;34m=\u001b[0m\u001b[0;36m10\u001b[0m\u001b[0;34m,\u001b[0m \u001b[0mnumber\u001b[0m\u001b[0;34m=\u001b[0m\u001b[0mn_ar\u001b[0m\u001b[0;34m)\u001b[0m\u001b[0;34m\u001b[0m\u001b[0;34m\u001b[0m\u001b[0m\n\u001b[0m\u001b[1;32m      9\u001b[0m     \u001b[0;32mreturn\u001b[0m \u001b[0mnp\u001b[0m\u001b[0;34m.\u001b[0m\u001b[0maverage\u001b[0m\u001b[0;34m(\u001b[0m\u001b[0mt\u001b[0m\u001b[0;34m)\u001b[0m\u001b[0;34m/\u001b[0m\u001b[0mn_ar\u001b[0m\u001b[0;34m\u001b[0m\u001b[0;34m\u001b[0m\u001b[0m\n\u001b[1;32m     10\u001b[0m \u001b[0;34m\u001b[0m\u001b[0m\n",
            "\u001b[0;32m/usr/lib/python3.6/timeit.py\u001b[0m in \u001b[0;36mrepeat\u001b[0;34m(self, repeat, number)\u001b[0m\n\u001b[1;32m    204\u001b[0m         \u001b[0mr\u001b[0m \u001b[0;34m=\u001b[0m \u001b[0;34m[\u001b[0m\u001b[0;34m]\u001b[0m\u001b[0;34m\u001b[0m\u001b[0;34m\u001b[0m\u001b[0m\n\u001b[1;32m    205\u001b[0m         \u001b[0;32mfor\u001b[0m \u001b[0mi\u001b[0m \u001b[0;32min\u001b[0m \u001b[0mrange\u001b[0m\u001b[0;34m(\u001b[0m\u001b[0mrepeat\u001b[0m\u001b[0;34m)\u001b[0m\u001b[0;34m:\u001b[0m\u001b[0;34m\u001b[0m\u001b[0;34m\u001b[0m\u001b[0m\n\u001b[0;32m--> 206\u001b[0;31m             \u001b[0mt\u001b[0m \u001b[0;34m=\u001b[0m \u001b[0mself\u001b[0m\u001b[0;34m.\u001b[0m\u001b[0mtimeit\u001b[0m\u001b[0;34m(\u001b[0m\u001b[0mnumber\u001b[0m\u001b[0;34m)\u001b[0m\u001b[0;34m\u001b[0m\u001b[0;34m\u001b[0m\u001b[0m\n\u001b[0m\u001b[1;32m    207\u001b[0m             \u001b[0mr\u001b[0m\u001b[0;34m.\u001b[0m\u001b[0mappend\u001b[0m\u001b[0;34m(\u001b[0m\u001b[0mt\u001b[0m\u001b[0;34m)\u001b[0m\u001b[0;34m\u001b[0m\u001b[0;34m\u001b[0m\u001b[0m\n\u001b[1;32m    208\u001b[0m         \u001b[0;32mreturn\u001b[0m \u001b[0mr\u001b[0m\u001b[0;34m\u001b[0m\u001b[0;34m\u001b[0m\u001b[0m\n",
            "\u001b[0;32m/usr/lib/python3.6/timeit.py\u001b[0m in \u001b[0;36mtimeit\u001b[0;34m(self, number)\u001b[0m\n\u001b[1;32m    176\u001b[0m         \u001b[0mgc\u001b[0m\u001b[0;34m.\u001b[0m\u001b[0mdisable\u001b[0m\u001b[0;34m(\u001b[0m\u001b[0;34m)\u001b[0m\u001b[0;34m\u001b[0m\u001b[0;34m\u001b[0m\u001b[0m\n\u001b[1;32m    177\u001b[0m         \u001b[0;32mtry\u001b[0m\u001b[0;34m:\u001b[0m\u001b[0;34m\u001b[0m\u001b[0;34m\u001b[0m\u001b[0m\n\u001b[0;32m--> 178\u001b[0;31m             \u001b[0mtiming\u001b[0m \u001b[0;34m=\u001b[0m \u001b[0mself\u001b[0m\u001b[0;34m.\u001b[0m\u001b[0minner\u001b[0m\u001b[0;34m(\u001b[0m\u001b[0mit\u001b[0m\u001b[0;34m,\u001b[0m \u001b[0mself\u001b[0m\u001b[0;34m.\u001b[0m\u001b[0mtimer\u001b[0m\u001b[0;34m)\u001b[0m\u001b[0;34m\u001b[0m\u001b[0;34m\u001b[0m\u001b[0m\n\u001b[0m\u001b[1;32m    179\u001b[0m         \u001b[0;32mfinally\u001b[0m\u001b[0;34m:\u001b[0m\u001b[0;34m\u001b[0m\u001b[0;34m\u001b[0m\u001b[0m\n\u001b[1;32m    180\u001b[0m             \u001b[0;32mif\u001b[0m \u001b[0mgcold\u001b[0m\u001b[0;34m:\u001b[0m\u001b[0;34m\u001b[0m\u001b[0;34m\u001b[0m\u001b[0m\n",
            "\u001b[0;32m<timeit-src>\u001b[0m in \u001b[0;36minner\u001b[0;34m(_it, _timer)\u001b[0m\n",
            "\u001b[0;32m<ipython-input-2-b438b7d1fa91>\u001b[0m in \u001b[0;36mbubble_sort\u001b[0;34m(A)\u001b[0m\n\u001b[1;32m     19\u001b[0m \u001b[0;34m\u001b[0m\u001b[0m\n\u001b[1;32m     20\u001b[0m         \u001b[0;31m# Shortens end of list by n - kth iteration - 1\u001b[0m\u001b[0;34m\u001b[0m\u001b[0;34m\u001b[0m\u001b[0;34m\u001b[0m\u001b[0m\n\u001b[0;32m---> 21\u001b[0;31m         \u001b[0;32mfor\u001b[0m \u001b[0mi\u001b[0m \u001b[0;32min\u001b[0m \u001b[0mrange\u001b[0m\u001b[0;34m(\u001b[0m\u001b[0mn\u001b[0m \u001b[0;34m-\u001b[0m \u001b[0mnum_rounds\u001b[0m \u001b[0;34m-\u001b[0m \u001b[0;36m1\u001b[0m\u001b[0;34m)\u001b[0m\u001b[0;34m:\u001b[0m\u001b[0;34m\u001b[0m\u001b[0;34m\u001b[0m\u001b[0m\n\u001b[0m\u001b[1;32m     22\u001b[0m \u001b[0;34m\u001b[0m\u001b[0m\n\u001b[1;32m     23\u001b[0m             \u001b[0;32mif\u001b[0m \u001b[0mA\u001b[0m\u001b[0;34m[\u001b[0m\u001b[0mi\u001b[0m\u001b[0;34m]\u001b[0m \u001b[0;34m>\u001b[0m \u001b[0mA\u001b[0m\u001b[0;34m[\u001b[0m\u001b[0mi\u001b[0m\u001b[0;34m+\u001b[0m\u001b[0;36m1\u001b[0m\u001b[0;34m]\u001b[0m\u001b[0;34m:\u001b[0m\u001b[0;34m\u001b[0m\u001b[0;34m\u001b[0m\u001b[0m\n",
            "\u001b[0;31mKeyboardInterrupt\u001b[0m: "
          ]
        },
        {
          "output_type": "display_data",
          "data": {
            "image/png": "[encoded data removed]",
            "text/plain": [
              "<Figure size 432x288 with 1 Axes>"
            ]
          },
          "metadata": {
            "tags": [],
            "needs_background": "light"
          }
        }
      ]
    },
    {
      "cell_type": "code",
      "metadata": {
        "id": "wjrJOvH3SsRC"
      },
      "source": [
        ""
      ],
      "execution_count": null,
      "outputs": []
    }
  ]
}