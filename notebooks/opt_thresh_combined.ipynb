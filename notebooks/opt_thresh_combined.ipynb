{
 "cells": [
  {
   "cell_type": "code",
   "execution_count": 2,
   "metadata": {},
   "outputs": [],
   "source": [
    "import numpy as np\n",
    "import pandas as pd\n",
    "import seaborn as sns\n",
    "import math\n",
    "import os\n",
    "import sys\n",
    "from pathlib import Path, PurePath\n",
    "sys.path.append(\"..\")\n",
    "# For quicksort\n",
    "sys.setrecursionlimit(int(1e7))\n",
    "\n",
    "from src.linear_sorting_algorithms import radixsort\n",
    "from src.quadratic_sorting_algorithms import bubble_sort, insertion_sort\n",
    "from src.subquad_sorting_algorithms import quicksort, mergesort\n",
    "from src.combined_sorting_algorithm import mergesort_combined\n",
    "\n",
    "from src.utility import time_sorting_algorithms, ArrayGenerator\n",
    "\n",
    "os.getcwd()\n",
    "import matplotlib.pyplot as plt\n",
    "\n",
    "\n"
   ]
  },
  {
   "cell_type": "code",
   "execution_count": 3,
   "metadata": {},
   "outputs": [
    {
     "name": "stdout",
     "output_type": "stream",
     "text": [
      "..\\data\n"
     ]
    }
   ],
   "source": [
    "if Path('../data').exists():\n",
    "    data_directory = PurePath(\"../data\")\n",
    "    print(data_directory)"
   ]
  },
  {
   "cell_type": "code",
   "execution_count": 4,
   "metadata": {},
   "outputs": [],
   "source": [
    "array_gen = ArrayGenerator(seed=None)\n",
    "\n",
    "# N for 2-base generator, N^2\n",
    "N = 1000\n",
    "cols = {\"Ascending\" : np.single, \"Descending\" : np.single, \"Random\" : np.single, \"Structured\" : np.single, \"Integers\" :np.int32}\n",
    "\n",
    "test_data = dict()\n",
    "\n",
    "\n",
    "for i in range(2, N+1, 1):\n",
    "    # Inverse of 2^N to create small steps\n",
    "    n = i\n",
    "    i = math.log2(i)\n",
    "    \n",
    "    data = np.array([array_gen.sorted_array(i),\n",
    "            array_gen.reversed_array(i),\n",
    "            array_gen.random_array(i),\n",
    "            array_gen.structured_array(i),\n",
    "            array_gen.integer_array(i)\n",
    "           ])\n",
    "    test_data[n] = pd.DataFrame(columns=cols.keys(), data=data.T).astype(cols)"
   ]
  },
  {
   "cell_type": "code",
   "execution_count": 5,
   "metadata": {},
   "outputs": [
    {
     "data": {
      "text/plain": [
       "999"
      ]
     },
     "execution_count": 5,
     "metadata": {},
     "output_type": "execute_result"
    }
   ],
   "source": [
    "len(test_data)"
   ]
  },
  {
   "cell_type": "code",
   "execution_count": 6,
   "metadata": {},
   "outputs": [
    {
     "name": "stdout",
     "output_type": "stream",
     "text": [
      "Timed and gather result for up to 100 element arrays\n",
      "Timed and gather result for up to 200 element arrays\n",
      "Timed and gather result for up to 300 element arrays\n",
      "Timed and gather result for up to 400 element arrays\n",
      "Timed and gather result for up to 500 element arrays\n",
      "Timed and gather result for up to 600 element arrays\n",
      "Timed and gather result for up to 700 element arrays\n",
      "Timed and gather result for up to 800 element arrays\n",
      "Timed and gather result for up to 900 element arrays\n",
      "Timed and gather result for up to 1000 element arrays\n"
     ]
    }
   ],
   "source": [
    "list_of_algorithms = [insertion_sort, mergesort]\n",
    "\n",
    "df_results = pd.DataFrame(columns=[\"Algorithm\", \"N\", \"TypeArray\", \"Time\"])\n",
    "\n",
    "for N, Array in test_data.items():\n",
    "    for TypeArray in cols.keys():\n",
    "        \n",
    "        for algorithm, times in time_sorting_algorithms(\n",
    "            functions=list_of_algorithms, \n",
    "            array=Array[TypeArray].to_numpy(), \n",
    "            iters=5, \n",
    "            verbose=False\n",
    "        ).items():\n",
    "            \n",
    "            for time in times:\n",
    "                \n",
    "                df_results = df_results.append(\n",
    "                    {\n",
    "                    \"Algorithm\": algorithm, \"N\": N, \"TypeArray\": TypeArray, \"Time\": time\n",
    "                    }, \n",
    "                    ignore_index=True\n",
    "                ) \n",
    "    if N % 100 == 0:\n",
    "        print(f\"Timed and gather result for up to {N} element arrays\")"
   ]
  },
  {
   "cell_type": "code",
   "execution_count": 7,
   "metadata": {},
   "outputs": [],
   "source": [
    "df_results[\"time/n(us)\"] = ((df_results['Time']/df_results['N'])*1e6).to_numpy(dtype='float32')"
   ]
  },
  {
   "cell_type": "code",
   "execution_count": 8,
   "metadata": {},
   "outputs": [
    {
     "data": {
      "text/plain": [
       "Algorithm      object\n",
       "N              object\n",
       "TypeArray      object\n",
       "Time          float64\n",
       "time/n(us)    float32\n",
       "dtype: object"
      ]
     },
     "execution_count": 8,
     "metadata": {},
     "output_type": "execute_result"
    }
   ],
   "source": [
    "df_results.dtypes"
   ]
  },
  {
   "cell_type": "code",
   "execution_count": 9,
   "metadata": {},
   "outputs": [],
   "source": [
    "df_results.N = df_results.N.to_numpy(dtype='int32')"
   ]
  },
  {
   "cell_type": "code",
   "execution_count": 10,
   "metadata": {},
   "outputs": [
    {
     "data": {
      "text/html": [
       "<div>\n",
       "<style scoped>\n",
       "    .dataframe tbody tr th:only-of-type {\n",
       "        vertical-align: middle;\n",
       "    }\n",
       "\n",
       "    .dataframe tbody tr th {\n",
       "        vertical-align: top;\n",
       "    }\n",
       "\n",
       "    .dataframe thead th {\n",
       "        text-align: right;\n",
       "    }\n",
       "</style>\n",
       "<table border=\"1\" class=\"dataframe\">\n",
       "  <thead>\n",
       "    <tr style=\"text-align: right;\">\n",
       "      <th></th>\n",
       "      <th>Algorithm</th>\n",
       "      <th>N</th>\n",
       "      <th>TypeArray</th>\n",
       "      <th>Time</th>\n",
       "      <th>time/n(us)</th>\n",
       "    </tr>\n",
       "  </thead>\n",
       "  <tbody>\n",
       "    <tr>\n",
       "      <th>0</th>\n",
       "      <td>insertion_sort</td>\n",
       "      <td>2</td>\n",
       "      <td>Ascending</td>\n",
       "      <td>4.906771e-01</td>\n",
       "      <td>245338.546875</td>\n",
       "    </tr>\n",
       "    <tr>\n",
       "      <th>1</th>\n",
       "      <td>insertion_sort</td>\n",
       "      <td>2</td>\n",
       "      <td>Ascending</td>\n",
       "      <td>2.100000e-06</td>\n",
       "      <td>1.050000</td>\n",
       "    </tr>\n",
       "    <tr>\n",
       "      <th>2</th>\n",
       "      <td>insertion_sort</td>\n",
       "      <td>2</td>\n",
       "      <td>Ascending</td>\n",
       "      <td>5.999996e-07</td>\n",
       "      <td>0.300000</td>\n",
       "    </tr>\n",
       "    <tr>\n",
       "      <th>3</th>\n",
       "      <td>insertion_sort</td>\n",
       "      <td>2</td>\n",
       "      <td>Ascending</td>\n",
       "      <td>6.000000e-07</td>\n",
       "      <td>0.300000</td>\n",
       "    </tr>\n",
       "    <tr>\n",
       "      <th>4</th>\n",
       "      <td>insertion_sort</td>\n",
       "      <td>2</td>\n",
       "      <td>Ascending</td>\n",
       "      <td>5.000002e-07</td>\n",
       "      <td>0.250000</td>\n",
       "    </tr>\n",
       "  </tbody>\n",
       "</table>\n",
       "</div>"
      ],
      "text/plain": [
       "        Algorithm  N  TypeArray          Time     time/n(us)\n",
       "0  insertion_sort  2  Ascending  4.906771e-01  245338.546875\n",
       "1  insertion_sort  2  Ascending  2.100000e-06       1.050000\n",
       "2  insertion_sort  2  Ascending  5.999996e-07       0.300000\n",
       "3  insertion_sort  2  Ascending  6.000000e-07       0.300000\n",
       "4  insertion_sort  2  Ascending  5.000002e-07       0.250000"
      ]
     },
     "execution_count": 10,
     "metadata": {},
     "output_type": "execute_result"
    }
   ],
   "source": [
    "df_results.head()"
   ]
  },
  {
   "cell_type": "code",
   "execution_count": 11,
   "metadata": {},
   "outputs": [],
   "source": [
    "height=100\n",
    "width=120\n",
    "IMAGE_SIZE = (width/25.4, height/25.4)\n",
    "\n",
    "plt.rcParams['axes.titlesize'] = 9\n",
    "plt.rcParams['axes.labelsize'] = 9\n",
    "plt.rcParams['xtick.labelsize'] = 8\n",
    "plt.rcParams['ytick.labelsize'] = 8\n",
    "plt.rcParams['legend.fontsize'] = 8"
   ]
  },
  {
   "cell_type": "code",
   "execution_count": 12,
   "metadata": {},
   "outputs": [
    {
     "data": {
      "text/plain": [
       "<matplotlib.axes._subplots.AxesSubplot at 0x187b53026a0>"
      ]
     },
     "execution_count": 12,
     "metadata": {},
     "output_type": "execute_result"
    },
    {
     "data": {
      "image/png": "[encoded data removed]",
      "text/plain": [
       "<Figure size 340.157x283.465 with 1 Axes>"
      ]
     },
     "metadata": {
      "needs_background": "light"
     },
     "output_type": "display_data"
    }
   ],
   "source": [
    "plt.figure(figsize=IMAGE_SIZE)\n",
    "sns.lineplot(\n",
    "    data=df_results.iloc[1000:10000], \n",
    "    x=\"N\", y=\"time/n(us)\", hue=\"Algorithm\", style=\"TypeArray\")\n",
    "plt.savefig(\"optimizing \")"
   ]
  },
  {
   "cell_type": "code",
   "execution_count": 13,
   "metadata": {},
   "outputs": [
    {
     "data": {
      "text/plain": [
       "Int64Index([   2,    3,    4,    5,    6,    7,    8,    9,   10,   11,\n",
       "            ...\n",
       "             991,  992,  993,  994,  995,  996,  997,  998,  999, 1000],\n",
       "           dtype='int64', name='N', length=1998)"
      ]
     },
     "execution_count": 13,
     "metadata": {},
     "output_type": "execute_result"
    }
   ],
   "source": [
    "mean_df = df_results.groupby(['Algorithm','N']).mean()\n",
    "mean_df.index.get_level_values('N')"
   ]
  },
  {
   "cell_type": "code",
   "execution_count": 15,
   "metadata": {},
   "outputs": [],
   "source": [
    "mean_df = mean_df[(mean_df.index.get_level_values('N') > 20) & (mean_df.index.get_level_values('N') < 500)]"
   ]
  },
  {
   "cell_type": "code",
   "execution_count": 18,
   "metadata": {},
   "outputs": [
    {
     "data": {
      "image/png": "[encoded data removed]",
      "text/plain": [
       "<Figure size 340.157x283.465 with 1 Axes>"
      ]
     },
     "metadata": {
      "needs_background": "light"
     },
     "output_type": "display_data"
    }
   ],
   "source": [
    "plt.figure(figsize=IMAGE_SIZE)\n",
    "sns.lineplot(\n",
    "    data=mean_df, \n",
    "    x=\"N\", y=\"Time\", hue=\"Algorithm\")\n",
    "plt.title(\"Meanplot of insertion sort compared to mergesort\")\n",
    "plt.savefig(f\"optimizing_combined_threshold.png\", bbox_inches='tight', transparent=True)\n",
    "plt.show()"
   ]
  },
  {
   "cell_type": "code",
   "execution_count": 58,
   "metadata": {},
   "outputs": [
    {
     "data": {
      "text/plain": [
       "N\n",
       "21      6.160000e-07\n",
       "22      6.120000e-07\n",
       "23      8.080000e-07\n",
       "24      8.120000e-07\n",
       "25      7.680000e-07\n",
       "            ...     \n",
       "996    -1.558000e-04\n",
       "997    -1.553960e-04\n",
       "998    -1.579080e-04\n",
       "999    -1.564960e-04\n",
       "1000   -1.590760e-04\n",
       "Name: Time, Length: 980, dtype: float64"
      ]
     },
     "execution_count": 58,
     "metadata": {},
     "output_type": "execute_result"
    }
   ],
   "source": [
    "delta_series = (mean_df.loc['mergesort', '3':].Time - mean_df.loc['insertion_sort', '3':].Time)\n",
    "delta_series"
   ]
  },
  {
   "cell_type": "code",
   "execution_count": 65,
   "metadata": {},
   "outputs": [
    {
     "data": {
      "text/plain": [
       "142"
      ]
     },
     "execution_count": 65,
     "metadata": {},
     "output_type": "execute_result"
    }
   ],
   "source": [
    "delta_series.idxmax()"
   ]
  },
  {
   "cell_type": "code",
   "execution_count": 68,
   "metadata": {},
   "outputs": [
    {
     "data": {
      "text/plain": [
       "6.559999997080013e-06"
      ]
     },
     "execution_count": 68,
     "metadata": {},
     "output_type": "execute_result"
    }
   ],
   "source": [
    "np.amax(delta_series)"
   ]
  },
  {
   "cell_type": "code",
   "execution_count": 72,
   "metadata": {},
   "outputs": [
    {
     "data": {
      "text/plain": [
       "N\n",
       "142    0.000007\n",
       "170    0.000007\n",
       "175    0.000006\n",
       "166    0.000006\n",
       "196    0.000006\n",
       "159    0.000006\n",
       "202    0.000006\n",
       "176    0.000006\n",
       "168    0.000006\n",
       "193    0.000006\n",
       "188    0.000006\n",
       "153    0.000006\n",
       "200    0.000006\n",
       "174    0.000006\n",
       "192    0.000006\n",
       "165    0.000006\n",
       "183    0.000006\n",
       "163    0.000006\n",
       "164    0.000006\n",
       "151    0.000006\n",
       "141    0.000006\n",
       "155    0.000006\n",
       "160    0.000006\n",
       "167    0.000006\n",
       "145    0.000006\n",
       "209    0.000006\n",
       "184    0.000006\n",
       "177    0.000006\n",
       "156    0.000006\n",
       "152    0.000006\n",
       "Name: Time, dtype: float64"
      ]
     },
     "execution_count": 72,
     "metadata": {},
     "output_type": "execute_result"
    }
   ],
   "source": [
    "delta_series.sort_values(ascending=False).head(30)"
   ]
  },
  {
   "cell_type": "markdown",
   "metadata": {},
   "source": [
    "## Using $\\Delta$ we have found the optimal threshold\n",
    "**The results are averaged over all the different types of array, including best case and worst case for insertion sort**\n",
    "\n",
    "We will use 142 as the threshold for using insertion sort\n",
    "\n",
    "**note:** all functions have been Just in time compiled by numba jit function"
   ]
  },
  {
   "cell_type": "code",
   "execution_count": null,
   "metadata": {},
   "outputs": [],
   "source": []
  }
 ],
 "metadata": {
  "kernelspec": {
   "display_name": "Python 3.7.1 64-bit ('base': conda)",
   "language": "python",
   "name": "python37164bitbaseconda247d2d3e33964d6a9f653d9f00279a97"
  },
  "language_info": {
   "codemirror_mode": {
    "name": "ipython",
    "version": 3
   },
   "file_extension": ".py",
   "mimetype": "text/x-python",
   "name": "python",
   "nbconvert_exporter": "python",
   "pygments_lexer": "ipython3",
   "version": "3.7.1"
  }
 },
 "nbformat": 4,
 "nbformat_minor": 4
}
