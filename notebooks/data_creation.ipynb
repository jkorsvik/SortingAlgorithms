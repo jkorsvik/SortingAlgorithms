{
 "cells": [
  {
   "cell_type": "code",
   "execution_count": 18,
   "metadata": {},
   "outputs": [
    {
     "data": {
      "text/plain": [
       "'C:\\\\Users\\\\Jkors\\\\OneDrive\\\\Dokumenter\\\\INF221\\\\term_paper\\\\team_19_term_paper\\\\notebooks'"
      ]
     },
     "execution_count": 18,
     "metadata": {},
     "output_type": "execute_result"
    }
   ],
   "source": [
    "import numpy as np\n",
    "import pandas as pd\n",
    "import os\n",
    "import sys\n",
    "sys.path.append(\"..\")\n",
    "\n",
    "from src.linear_sorting_algorithms import radixsort\n",
    "from src.quadratic_sorting_algorithms import bubble_sort, insertion_sort\n",
    "from src.subquad_sorting_algorithms import quicksort, mergesort\n",
    "from src.combined_sorting_algorithm import mergesort_combined\n",
    "\n",
    "from src.utility import time_sorting_algorithms, ArrayGenerator\n",
    "\n",
    "os.getcwd()"
   ]
  },
  {
   "cell_type": "code",
   "execution_count": 19,
   "metadata": {},
   "outputs": [
    {
     "data": {
      "text/plain": [
       "(4, 1048576)"
      ]
     },
     "execution_count": 19,
     "metadata": {},
     "output_type": "execute_result"
    }
   ],
   "source": [
    "array_gen = ArrayGenerator(seed=42)\n",
    "\n",
    "# N for 2-base generator, N^2\n",
    "N = 20\n",
    "\n",
    "cols = [\"Ascending\", \"Descending\", \"Random\", \"Structured\"]\n",
    "data = np.array([array_gen.sorted_array(N),\n",
    "        array_gen.reversed_array(N),\n",
    "        array_gen.random_array(N),\n",
    "        array_gen.structured_array(N)\n",
    "       ])\n",
    "\n",
    "data.shape"
   ]
  },
  {
   "cell_type": "code",
   "execution_count": 20,
   "metadata": {},
   "outputs": [
    {
     "data": {
      "text/html": [
       "<div>\n",
       "<style scoped>\n",
       "    .dataframe tbody tr th:only-of-type {\n",
       "        vertical-align: middle;\n",
       "    }\n",
       "\n",
       "    .dataframe tbody tr th {\n",
       "        vertical-align: top;\n",
       "    }\n",
       "\n",
       "    .dataframe thead th {\n",
       "        text-align: right;\n",
       "    }\n",
       "</style>\n",
       "<table border=\"1\" class=\"dataframe\">\n",
       "  <thead>\n",
       "    <tr style=\"text-align: right;\">\n",
       "      <th></th>\n",
       "      <th>Ascending</th>\n",
       "      <th>Descending</th>\n",
       "      <th>Random</th>\n",
       "      <th>Structured</th>\n",
       "    </tr>\n",
       "  </thead>\n",
       "  <tbody>\n",
       "    <tr>\n",
       "      <th>0</th>\n",
       "      <td>0.0</td>\n",
       "      <td>1048576.0</td>\n",
       "      <td>0.773956</td>\n",
       "      <td>107.0</td>\n",
       "    </tr>\n",
       "    <tr>\n",
       "      <th>1</th>\n",
       "      <td>1.0</td>\n",
       "      <td>1048575.0</td>\n",
       "      <td>0.438878</td>\n",
       "      <td>3411.0</td>\n",
       "    </tr>\n",
       "    <tr>\n",
       "      <th>2</th>\n",
       "      <td>2.0</td>\n",
       "      <td>1048574.0</td>\n",
       "      <td>0.858598</td>\n",
       "      <td>3839.0</td>\n",
       "    </tr>\n",
       "    <tr>\n",
       "      <th>3</th>\n",
       "      <td>3.0</td>\n",
       "      <td>1048573.0</td>\n",
       "      <td>0.697368</td>\n",
       "      <td>2042.0</td>\n",
       "    </tr>\n",
       "    <tr>\n",
       "      <th>4</th>\n",
       "      <td>4.0</td>\n",
       "      <td>1048572.0</td>\n",
       "      <td>0.094177</td>\n",
       "      <td>5188.0</td>\n",
       "    </tr>\n",
       "    <tr>\n",
       "      <th>...</th>\n",
       "      <td>...</td>\n",
       "      <td>...</td>\n",
       "      <td>...</td>\n",
       "      <td>...</td>\n",
       "    </tr>\n",
       "    <tr>\n",
       "      <th>1048571</th>\n",
       "      <td>1048571.0</td>\n",
       "      <td>5.0</td>\n",
       "      <td>0.527868</td>\n",
       "      <td>1048497.0</td>\n",
       "    </tr>\n",
       "    <tr>\n",
       "      <th>1048572</th>\n",
       "      <td>1048572.0</td>\n",
       "      <td>4.0</td>\n",
       "      <td>0.702595</td>\n",
       "      <td>1048506.0</td>\n",
       "    </tr>\n",
       "    <tr>\n",
       "      <th>1048573</th>\n",
       "      <td>1048573.0</td>\n",
       "      <td>3.0</td>\n",
       "      <td>0.542314</td>\n",
       "      <td>1048540.0</td>\n",
       "    </tr>\n",
       "    <tr>\n",
       "      <th>1048574</th>\n",
       "      <td>1048574.0</td>\n",
       "      <td>2.0</td>\n",
       "      <td>0.621054</td>\n",
       "      <td>1048493.0</td>\n",
       "    </tr>\n",
       "    <tr>\n",
       "      <th>1048575</th>\n",
       "      <td>1048575.0</td>\n",
       "      <td>1.0</td>\n",
       "      <td>0.341063</td>\n",
       "      <td>1048546.0</td>\n",
       "    </tr>\n",
       "  </tbody>\n",
       "</table>\n",
       "<p>1048576 rows × 4 columns</p>\n",
       "</div>"
      ],
      "text/plain": [
       "         Ascending  Descending    Random  Structured\n",
       "0              0.0   1048576.0  0.773956       107.0\n",
       "1              1.0   1048575.0  0.438878      3411.0\n",
       "2              2.0   1048574.0  0.858598      3839.0\n",
       "3              3.0   1048573.0  0.697368      2042.0\n",
       "4              4.0   1048572.0  0.094177      5188.0\n",
       "...            ...         ...       ...         ...\n",
       "1048571  1048571.0         5.0  0.527868   1048497.0\n",
       "1048572  1048572.0         4.0  0.702595   1048506.0\n",
       "1048573  1048573.0         3.0  0.542314   1048540.0\n",
       "1048574  1048574.0         2.0  0.621054   1048493.0\n",
       "1048575  1048575.0         1.0  0.341063   1048546.0\n",
       "\n",
       "[1048576 rows x 4 columns]"
      ]
     },
     "execution_count": 20,
     "metadata": {},
     "output_type": "execute_result"
    }
   ],
   "source": [
    "df = pd.DataFrame(columns=cols, data=data.T)\n",
    "df"
   ]
  },
  {
   "cell_type": "code",
   "execution_count": null,
   "metadata": {},
   "outputs": [],
   "source": []
  }
 ],
 "metadata": {
  "kernelspec": {
   "display_name": "Python 3.7.6 64-bit ('base': conda)",
   "language": "python",
   "name": "python37664bitbasecondafc8f2690df2d4deca9596a182d961854"
  },
  "language_info": {
   "codemirror_mode": {
    "name": "ipython",
    "version": 3
   },
   "file_extension": ".py",
   "mimetype": "text/x-python",
   "name": "python",
   "nbconvert_exporter": "python",
   "pygments_lexer": "ipython3",
   "version": "3.7.1"
  }
 },
 "nbformat": 4,
 "nbformat_minor": 4
}
