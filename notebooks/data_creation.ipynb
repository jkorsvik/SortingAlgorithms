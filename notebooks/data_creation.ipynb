{
 "cells": [
  {
   "cell_type": "code",
   "execution_count": 5,
   "metadata": {},
   "outputs": [
    {
     "data": {
      "text/plain": [
       "'C:\\\\Users\\\\Jkors\\\\OneDrive\\\\Dokumenter\\\\INF221\\\\term_paper\\\\team_19_term_paper\\\\notebooks'"
      ]
     },
     "execution_count": 5,
     "metadata": {},
     "output_type": "execute_result"
    }
   ],
   "source": [
    "import numpy as np\n",
    "import pandas as pd\n",
    "import os\n",
    "import sys\n",
    "sys.path.append(\"..\")\n",
    "\n",
    "from src.linear_sorting_algorithms import radixsort\n",
    "from src.quadratic_sorting_algorithms import bubble_sort, insertion_sort\n",
    "from src.subquad_sorting_algorithms import quicksort, mergesort\n",
    "from src.combined_sorting_algorithm import mergesort_combined\n",
    "\n",
    "from src.utility import time_sorting_algorithms, ArrayGenerator\n",
    "\n",
    "os.getcwd()"
   ]
  },
  {
   "cell_type": "code",
   "execution_count": 21,
   "metadata": {},
   "outputs": [
    {
     "data": {
      "text/plain": [
       "(4, 65536)"
      ]
     },
     "execution_count": 21,
     "metadata": {},
     "output_type": "execute_result"
    }
   ],
   "source": [
    "array_gen = ArrayGenerator(seed=42)\n",
    "\n",
    "# N for 2-base generator, N^2\n",
    "N = 16\n",
    "\n",
    "cols = [\"Ascending\", \"Descending\", \"Random\", \"Structured\"]\n",
    "data = np.array([array_gen.sorted_array(N),\n",
    "        array_gen.reversed_array(N),\n",
    "        array_gen.random_array(N),\n",
    "        array_gen.structured_array(N)\n",
    "       ])\n",
    "\n",
    "data.shape"
   ]
  },
  {
   "cell_type": "code",
   "execution_count": 23,
   "metadata": {},
   "outputs": [
    {
     "data": {
      "text/html": [
       "<div>\n",
       "<style scoped>\n",
       "    .dataframe tbody tr th:only-of-type {\n",
       "        vertical-align: middle;\n",
       "    }\n",
       "\n",
       "    .dataframe tbody tr th {\n",
       "        vertical-align: top;\n",
       "    }\n",
       "\n",
       "    .dataframe thead th {\n",
       "        text-align: right;\n",
       "    }\n",
       "</style>\n",
       "<table border=\"1\" class=\"dataframe\">\n",
       "  <thead>\n",
       "    <tr style=\"text-align: right;\">\n",
       "      <th></th>\n",
       "      <th>Ascending</th>\n",
       "      <th>Descending</th>\n",
       "      <th>Random</th>\n",
       "      <th>Structured</th>\n",
       "    </tr>\n",
       "  </thead>\n",
       "  <tbody>\n",
       "    <tr>\n",
       "      <th>0</th>\n",
       "      <td>0.0</td>\n",
       "      <td>65536.0</td>\n",
       "      <td>0.773956</td>\n",
       "      <td>375.0</td>\n",
       "    </tr>\n",
       "    <tr>\n",
       "      <th>1</th>\n",
       "      <td>1.0</td>\n",
       "      <td>65535.0</td>\n",
       "      <td>0.438878</td>\n",
       "      <td>99.0</td>\n",
       "    </tr>\n",
       "    <tr>\n",
       "      <th>2</th>\n",
       "      <td>2.0</td>\n",
       "      <td>65534.0</td>\n",
       "      <td>0.858598</td>\n",
       "      <td>247.0</td>\n",
       "    </tr>\n",
       "    <tr>\n",
       "      <th>3</th>\n",
       "      <td>3.0</td>\n",
       "      <td>65533.0</td>\n",
       "      <td>0.697368</td>\n",
       "      <td>220.0</td>\n",
       "    </tr>\n",
       "    <tr>\n",
       "      <th>4</th>\n",
       "      <td>4.0</td>\n",
       "      <td>65532.0</td>\n",
       "      <td>0.094177</td>\n",
       "      <td>319.0</td>\n",
       "    </tr>\n",
       "    <tr>\n",
       "      <th>...</th>\n",
       "      <td>...</td>\n",
       "      <td>...</td>\n",
       "      <td>...</td>\n",
       "      <td>...</td>\n",
       "    </tr>\n",
       "    <tr>\n",
       "      <th>65531</th>\n",
       "      <td>65531.0</td>\n",
       "      <td>5.0</td>\n",
       "      <td>0.484087</td>\n",
       "      <td>65406.0</td>\n",
       "    </tr>\n",
       "    <tr>\n",
       "      <th>65532</th>\n",
       "      <td>65532.0</td>\n",
       "      <td>4.0</td>\n",
       "      <td>0.988750</td>\n",
       "      <td>65313.0</td>\n",
       "    </tr>\n",
       "    <tr>\n",
       "      <th>65533</th>\n",
       "      <td>65533.0</td>\n",
       "      <td>3.0</td>\n",
       "      <td>0.227061</td>\n",
       "      <td>65277.0</td>\n",
       "    </tr>\n",
       "    <tr>\n",
       "      <th>65534</th>\n",
       "      <td>65534.0</td>\n",
       "      <td>2.0</td>\n",
       "      <td>0.584817</td>\n",
       "      <td>65064.0</td>\n",
       "    </tr>\n",
       "    <tr>\n",
       "      <th>65535</th>\n",
       "      <td>65535.0</td>\n",
       "      <td>1.0</td>\n",
       "      <td>0.213489</td>\n",
       "      <td>65278.0</td>\n",
       "    </tr>\n",
       "  </tbody>\n",
       "</table>\n",
       "<p>65536 rows × 4 columns</p>\n",
       "</div>"
      ],
      "text/plain": [
       "       Ascending  Descending    Random  Structured\n",
       "0            0.0     65536.0  0.773956       375.0\n",
       "1            1.0     65535.0  0.438878        99.0\n",
       "2            2.0     65534.0  0.858598       247.0\n",
       "3            3.0     65533.0  0.697368       220.0\n",
       "4            4.0     65532.0  0.094177       319.0\n",
       "...          ...         ...       ...         ...\n",
       "65531    65531.0         5.0  0.484087     65406.0\n",
       "65532    65532.0         4.0  0.988750     65313.0\n",
       "65533    65533.0         3.0  0.227061     65277.0\n",
       "65534    65534.0         2.0  0.584817     65064.0\n",
       "65535    65535.0         1.0  0.213489     65278.0\n",
       "\n",
       "[65536 rows x 4 columns]"
      ]
     },
     "execution_count": 23,
     "metadata": {},
     "output_type": "execute_result"
    }
   ],
   "source": [
    "df_arrays = pd.DataFrame(columns=cols, data=data.T)\n",
    "df_arrays"
   ]
  },
  {
   "cell_type": "code",
   "execution_count": null,
   "metadata": {},
   "outputs": [],
   "source": [
    "list_of_algorithms = [bubble_sort, insertion_sort, quicksort, mergesort, mergesort_combined]"
   ]
  }
 ],
 "metadata": {
  "kernelspec": {
   "display_name": "Python 3.7.6 64-bit ('base': conda)",
   "language": "python",
   "name": "python37664bitbasecondafc8f2690df2d4deca9596a182d961854"
  },
  "language_info": {
   "codemirror_mode": {
    "name": "ipython",
    "version": 3
   },
   "file_extension": ".py",
   "mimetype": "text/x-python",
   "name": "python",
   "nbconvert_exporter": "python",
   "pygments_lexer": "ipython3",
   "version": "3.7.1"
  }
 },
 "nbformat": 4,
 "nbformat_minor": 4
}
