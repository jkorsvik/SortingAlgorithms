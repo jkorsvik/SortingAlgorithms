{
 "cells": [
  {
   "cell_type": "code",
   "execution_count": 1,
   "metadata": {},
   "outputs": [
    {
     "data": {
      "text/plain": [
       "'C:\\\\Users\\\\Jkors\\\\OneDrive\\\\Dokumenter\\\\INF221\\\\term_paper\\\\team_19_term_paper\\\\notebooks'"
      ]
     },
     "execution_count": 1,
     "metadata": {},
     "output_type": "execute_result"
    }
   ],
   "source": [
    "import numpy as np\n",
    "import pandas as pd\n",
    "import seaborn as sns\n",
    "\n",
    "import os\n",
    "import sys\n",
    "from pathlib import Path, PurePath\n",
    "sys.path.append(\"..\")\n",
    "# For quicksort\n",
    "sys.setrecursionlimit(int(1e7))\n",
    "\n",
    "from src.linear_sorting_algorithms import radixsort\n",
    "from src.quadratic_sorting_algorithms import bubble_sort, insertion_sort\n",
    "from src.subquad_sorting_algorithms import quicksort, mergesort\n",
    "from src.combined_sorting_algorithm import mergesort_combined\n",
    "\n",
    "from src.utility import time_sorting_algorithms, ArrayGenerator\n",
    "\n",
    "os.getcwd()\n",
    "\n",
    "\n"
   ]
  },
  {
   "cell_type": "code",
   "execution_count": 2,
   "metadata": {},
   "outputs": [
    {
     "name": "stdout",
     "output_type": "stream",
     "text": [
      "..\\data\n"
     ]
    }
   ],
   "source": [
    "if Path('../data').exists():\n",
    "    data_directory = PurePath(\"../data\")\n",
    "    print(data_directory)"
   ]
  },
  {
   "cell_type": "code",
   "execution_count": 3,
   "metadata": {},
   "outputs": [],
   "source": [
    "array_gen = ArrayGenerator(seed=12)\n",
    "\n",
    "# N for 2-base generator, N^2\n",
    "N = 11\n",
    "cols = {\"Ascending\" : np.single, \"Descending\" : np.single, \"Random\" : np.single, \"Structured\" : np.single, \"Integers\" :np.int32}\n",
    "\n",
    "test_data = dict()\n",
    "\n",
    "for i in range(1, N+1):\n",
    "    data = np.array([array_gen.sorted_array(i),\n",
    "            array_gen.reversed_array(i),\n",
    "            array_gen.random_array(i),\n",
    "            array_gen.structured_array(i),\n",
    "            array_gen.integer_array(i)\n",
    "           ])\n",
    "    test_data[i] = pd.DataFrame(columns=cols.keys(), data=data.T).astype(cols)"
   ]
  },
  {
   "cell_type": "code",
   "execution_count": 4,
   "metadata": {},
   "outputs": [],
   "source": [
    "list_of_algorithms = [bubble_sort, insertion_sort, quicksort, mergesort, mergesort_combined]\n",
    "\n",
    "df_results = pd.DataFrame(columns=[\"Algorithm\", \"2^N\", \"TypeArray\", \"Time\"])\n",
    "\n",
    "for N, Array in test_data.items():\n",
    "    for TypeArray in cols.keys():\n",
    "        \n",
    "        for algorithm, times in time_sorting_algorithms(\n",
    "            functions=list_of_algorithms, \n",
    "            array=Array[TypeArray].to_numpy(), \n",
    "            iters=5, \n",
    "            verbose=True\n",
    "        ).items():\n",
    "            \n",
    "            for time in times:\n",
    "                \n",
    "                df_results = df_results.append(\n",
    "                    {\n",
    "                    \"Algorithm\": algorithm, \"N^2\": N, \"TypeArray\": TypeArray, \"Time\": time\n",
    "                    }, \n",
    "                    ignore_index=True\n",
    "                )\n",
    "        \n",
    "\n",
    "df_results.to_csv(f\"{data_directory}/benchmark_results.csv\")    "
   ]
  },
  {
   "cell_type": "code",
   "execution_count": null,
   "metadata": {},
   "outputs": [],
   "source": []
  },
  {
   "cell_type": "code",
   "execution_count": null,
   "metadata": {},
   "outputs": [],
   "source": [
    "df_results[(df_results[\"Algorithm\"] == \"insertion_sort\") & (df_results[\"TypeArray\"] == \"Ascending\")]"
   ]
  },
  {
   "cell_type": "code",
   "execution_count": null,
   "metadata": {},
   "outputs": [],
   "source": [
    "sns.lineplot(data=df_results[(df_results[\"Algorithm\"] == \"insertion_sort\") & (df_results[\"TypeArray\"] == \"Ascending\")], x=\"2^N\", y=\"Time\", hue=\"Algorithm\")"
   ]
  },
  {
   "cell_type": "code",
   "execution_count": null,
   "metadata": {},
   "outputs": [],
   "source": []
  }
 ],
 "metadata": {
  "kernelspec": {
   "display_name": "Python 3.7.1 64-bit ('base': conda)",
   "language": "python",
   "name": "python37164bitbaseconda247d2d3e33964d6a9f653d9f00279a97"
  },
  "language_info": {
   "codemirror_mode": {
    "name": "ipython",
    "version": 3
   },
   "file_extension": ".py",
   "mimetype": "text/x-python",
   "name": "python",
   "nbconvert_exporter": "python",
   "pygments_lexer": "ipython3",
   "version": "3.7.1"
  }
 },
 "nbformat": 4,
 "nbformat_minor": 4
}
